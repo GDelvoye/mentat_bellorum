{
 "cells": [
  {
   "cell_type": "code",
   "execution_count": 179,
   "metadata": {},
   "outputs": [],
   "source": [
    "from back.src.effet.effet import Effet\n",
    "from back.src.parser.type import EnumEffet, EnumArme\n",
    "from back.src.equipement.equipement import Equipement, Arme, Armure, TypeArme\n",
    "from back.src.figurine.caracteristique import Caracteristique\n",
    "from back.src.figurine.figurine import Figurine, FigurineEquipee, Socle\n",
    "from back.src.parser.dict_arme_from_csv import dict_arme\n",
    "from back.src.parser.dict_effet_from_csv import dict_effet\n",
    "from back.src.combat.combat_individuel import dict_nb_pv_perdu_probabilite"
   ]
  },
  {
   "cell_type": "code",
   "execution_count": 182,
   "metadata": {},
   "outputs": [
    {
     "name": "stdout",
     "output_type": "stream",
     "text": [
      "arme_de_base\n",
      "deux_armes_de_base\n",
      "lance\n",
      "lance_montee\n",
      "lance_de_cavalerie\n",
      "arme_lourde\n",
      "arme_lourde_montee\n",
      "hallebarde\n",
      "fleau\n",
      "morgenstern\n",
      "marteau_de_cavalerie\n",
      "marteau_de_cavalerie2\n",
      "pistolet\n"
     ]
    }
   ],
   "source": [
    "for a in EnumArme:\n",
    "    print(a.value)"
   ]
  },
  {
   "cell_type": "code",
   "execution_count": 187,
   "metadata": {},
   "outputs": [
    {
     "data": {
      "text/plain": [
       "{'a', 'b'}"
      ]
     },
     "execution_count": 187,
     "metadata": {},
     "output_type": "execute_result"
    }
   ],
   "source": [
    "a = set([\"a\"])\n",
    "b = set([\"b\"])\n",
    "a.union(b)"
   ]
  },
  {
   "cell_type": "code",
   "execution_count": 180,
   "metadata": {},
   "outputs": [
    {
     "data": {
      "text/plain": [
       "Effet(nom='attaque_enflammee', modificateur_carac_allie= M|CC|CT| F| E|PV| I| A|Cd|Sv|Si\n",
       " 0| 0| 0| 0| 0| 0| 0| 0| 0| 7| 7, modificateur_carac_adverse= M|CC|CT| F| E|PV| I| A|Cd|Sv|Si\n",
       " 0| 0| 0| 0| 0| 0| 0| 0| 0| 7| 7, set_nom_effet_necessaire_allie=set(), set_nom_effet_necessaire_adverse=set(), set_nom_effet_suppresseur_allie=set(), set_nom_effet_suppresseur_adverse=set(), set_nom_effet_inclu=set())"
      ]
     },
     "execution_count": 180,
     "metadata": {},
     "output_type": "execute_result"
    }
   ],
   "source": [
    "dict_effet[\"attaque_enflammee\"]"
   ]
  },
  {
   "cell_type": "code",
   "execution_count": 17,
   "metadata": {},
   "outputs": [
    {
     "data": {
      "text/plain": [
       "{'a', 'd', 'e'}"
      ]
     },
     "execution_count": 17,
     "metadata": {},
     "output_type": "execute_result"
    }
   ],
   "source": [
    "s = set(\"a\")\n",
    "s.update('b')\n",
    "s.discard('C')\n",
    "s.discard('b')\n",
    "s.update(\"d\", \"e\")\n",
    "s"
   ]
  },
  {
   "cell_type": "code",
   "execution_count": 18,
   "metadata": {},
   "outputs": [
    {
     "name": "stdout",
     "output_type": "stream",
     "text": [
      "a\n",
      "e\n",
      "d\n"
     ]
    }
   ],
   "source": [
    "for e in s:\n",
    "    print(e)"
   ]
  },
  {
   "cell_type": "code",
   "execution_count": 22,
   "metadata": {},
   "outputs": [
    {
     "data": {
      "text/plain": [
       "{'peur'}"
      ]
     },
     "execution_count": 22,
     "metadata": {},
     "output_type": "execute_result"
    }
   ],
   "source": [
    "e: Effet = dict_effet[\"terreur\"]\n",
    "e.set_nom_effet_inclu"
   ]
  },
  {
   "cell_type": "code",
   "execution_count": 149,
   "metadata": {},
   "outputs": [
    {
     "data": {
      "text/plain": [
       "{'charge', 'horde', 'premier_tour', 'regen'}"
      ]
     },
     "execution_count": 149,
     "metadata": {},
     "output_type": "execute_result"
    }
   ],
   "source": [
    "liste = set([\"premier_tour\", \"charge\", \"horde\", \"regen\"])\n",
    "liste"
   ]
  },
  {
   "cell_type": "code",
   "execution_count": 154,
   "metadata": {},
   "outputs": [
    {
     "name": "stdout",
     "output_type": "stream",
     "text": [
      "set(), {'charge', 'horde', 'premier_tour', 'regen'}\n"
     ]
    }
   ],
   "source": [
    "charge_dep=set([\"charge\"])\n",
    "charge_dep = set()\n",
    "print(f\"{charge_dep.difference(liste)}, {liste.difference(charge_dep)}\")\n"
   ]
  },
  {
   "cell_type": "code",
   "execution_count": 168,
   "metadata": {},
   "outputs": [
    {
     "name": "stdout",
     "output_type": "stream",
     "text": [
      "set() {'charge'}\n",
      "set() {'regeneration', 'frappe_en_dernier', 'premier_tour', 'charge', 'haine', 'horde'}\n",
      "set() {'haine', 'regeneration', 'frappe_en_dernier', 'horde', 'premier_tour'}\n"
     ]
    }
   ],
   "source": [
    "liste = set([\"horde\", \"premier_tour\", \"haine\", \"regeneration\", \"frappe_en_dernier\", \"charge\"])\n",
    "nom_effet = \"frappe_en_dernier\"\n",
    "dependance_effet = dict_effet[nom_effet].set_nom_effet_necessaire_allie\n",
    "suppresseur_effet = dict_effet[nom_effet].set_nom_effet_suppresseur_allie\n",
    "print(dependance_effet, suppresseur_effet)\n",
    "print(dependance_effet.difference(liste), liste.difference(dependance_effet))\n",
    "print(suppresseur_effet.difference(liste), liste.difference(suppresseur_effet))"
   ]
  },
  {
   "cell_type": "code",
   "execution_count": 170,
   "metadata": {},
   "outputs": [
    {
     "name": "stdout",
     "output_type": "stream",
     "text": [
      "{'charge'} set()\n",
      "{'charge'} {'haine', 'regeneration', 'frappe_en_dernier', 'horde', 'premier_tour'}\n",
      "set() {'regeneration', 'frappe_en_dernier', 'premier_tour', 'haine', 'horde'}\n"
     ]
    }
   ],
   "source": [
    "liste = set([\"horde\", \"premier_tour\", \"haine\", \"regeneration\", \"frappe_en_dernier\"])\n",
    "nom_effet = \"horde\"\n",
    "dependance_effet = dict_effet[nom_effet].set_nom_effet_necessaire_allie\n",
    "suppresseur_effet = dict_effet[nom_effet].set_nom_effet_suppresseur_allie\n",
    "print(dependance_effet, suppresseur_effet)\n",
    "print(dependance_effet.difference(liste), liste.difference(dependance_effet))\n",
    "print(suppresseur_effet.difference(liste), liste.difference(suppresseur_effet))"
   ]
  },
  {
   "cell_type": "code",
   "execution_count": 171,
   "metadata": {},
   "outputs": [
    {
     "name": "stdout",
     "output_type": "stream",
     "text": [
      "set() {'charge'}\n",
      "set() {'regeneration', 'frappe_en_dernier', 'premier_tour', 'haine', 'horde'}\n",
      "{'charge'} {'haine', 'regeneration', 'frappe_en_dernier', 'horde', 'premier_tour'}\n"
     ]
    }
   ],
   "source": [
    "liste = set([\"horde\", \"premier_tour\", \"haine\", \"regeneration\", \"frappe_en_dernier\"])\n",
    "nom_effet = \"frappe_en_dernier\"\n",
    "dependance_effet = dict_effet[nom_effet].set_nom_effet_necessaire_allie\n",
    "suppresseur_effet = dict_effet[nom_effet].set_nom_effet_suppresseur_allie\n",
    "print(dependance_effet, suppresseur_effet)\n",
    "print(dependance_effet.difference(liste), liste.difference(dependance_effet))\n",
    "print(suppresseur_effet.difference(liste), liste.difference(suppresseur_effet))"
   ]
  },
  {
   "cell_type": "code",
   "execution_count": 89,
   "metadata": {},
   "outputs": [
    {
     "data": {
      "text/plain": [
       "set()"
      ]
     },
     "execution_count": 89,
     "metadata": {},
     "output_type": "execute_result"
    }
   ],
   "source": [
    "u"
   ]
  },
  {
   "cell_type": "code",
   "execution_count": null,
   "metadata": {},
   "outputs": [],
   "source": []
  },
  {
   "cell_type": "code",
   "execution_count": 139,
   "metadata": {},
   "outputs": [],
   "source": [
    "from __future__ import annotations\n",
    "from typing import Optional, Set\n",
    "class Node():\n",
    "    def __init__(self, nom):\n",
    "        self.nom = nom\n",
    "        self.is_valide: Optional[bool] = None\n",
    "        self.dependances: Set[Node] = set()\n",
    "        self.suppresseur: Set[Node] = set()\n",
    "        self.ascendant_sur: Set[Node] = set()\n",
    "    \n",
    "    def __repr__(self):\n",
    "        return self.nom\n",
    "    \n",
    "    def add_dependancie(self, list_node: list[Node]):\n",
    "        self.dependances.update(list_node)\n",
    "        for node in list_node:\n",
    "            node.ascendant_sur.add(self)\n",
    "\n",
    "    \n",
    "    def check_is_valide(self) -> Optional[bool]:\n",
    "        if self.is_valide is not None:\n",
    "            if self.is_valide:\n",
    "                return True\n",
    "        # could be optimized\n",
    "        dict_nodes: dict[str, Optional[bool]] = {\n",
    "            node.nom: node.check_is_valide() for node in self.dependances\n",
    "        }\n",
    "        print(\"------------\")\n",
    "        print(f\"{self}: {dict_nodes}\")\n",
    "        u = set()\n",
    "        # u = set(dict_nodes.keys())\n",
    "        for k, n in dict_nodes.items():\n",
    "            if n:\n",
    "                u.add(k)\n",
    "        effet: Effet = dict_effet[self.nom]\n",
    "        s = effet.set_nom_effet_necessaire_allie\n",
    "        diff = u.difference(s)\n",
    "        \n",
    "        if u.difference(s) == set() and s.difference(u) == set():\n",
    "            for node in self.dependances:\n",
    "                print(\"uuu\")\n",
    "                print(node.nom)\n",
    "                if node.is_valide == False:\n",
    "                    self.is_valide = False\n",
    "            self.is_valide = True\n",
    "        else:\n",
    "            self.is_valide = False\n",
    "        print(f\"{self}::: u={u}, s={s}, diff={diff}, is_valide={self.is_valide}\")\n",
    "\n",
    "        return self.is_valide\n",
    "\n",
    "horde = Node(\"horde\")\n",
    "haine = Node(\"haine\")\n",
    "charge =Node(\"charge\")\n",
    "premier_tour = Node(\"premier_tour\")\n",
    "horde.add_dependancie([charge])\n",
    "# charge.add_dependancie([premier_tour])\n",
    "haine.add_dependancie([premier_tour])\n",
    "\n",
    "            "
   ]
  },
  {
   "cell_type": "code",
   "execution_count": 143,
   "metadata": {},
   "outputs": [
    {
     "name": "stdout",
     "output_type": "stream",
     "text": [
      "------------\n",
      "charge: {}\n",
      "charge::: u=set(), s={'premier_tour'}, diff=set(), is_valide=False\n",
      "------------\n",
      "horde: {'charge': False}\n",
      "horde::: u=set(), s={'charge'}, diff=set(), is_valide=False\n"
     ]
    },
    {
     "data": {
      "text/plain": [
       "False"
      ]
     },
     "execution_count": 143,
     "metadata": {},
     "output_type": "execute_result"
    }
   ],
   "source": [
    "horde.check_is_valide()"
   ]
  },
  {
   "cell_type": "code",
   "execution_count": 142,
   "metadata": {},
   "outputs": [
    {
     "name": "stdout",
     "output_type": "stream",
     "text": [
      "------------\n",
      "premier_tour: {}\n",
      "premier_tour::: u=set(), s=set(), diff=set(), is_valide=True\n",
      "------------\n",
      "haine: {'premier_tour': True}\n",
      "uuu\n",
      "premier_tour\n",
      "haine::: u={'premier_tour'}, s={'premier_tour'}, diff=set(), is_valide=True\n"
     ]
    },
    {
     "data": {
      "text/plain": [
       "True"
      ]
     },
     "execution_count": 142,
     "metadata": {},
     "output_type": "execute_result"
    }
   ],
   "source": [
    "haine.check_is_valide()"
   ]
  },
  {
   "cell_type": "code",
   "execution_count": 116,
   "metadata": {},
   "outputs": [
    {
     "data": {
      "text/plain": [
       "{charge}"
      ]
     },
     "execution_count": 116,
     "metadata": {},
     "output_type": "execute_result"
    }
   ],
   "source": [
    "horde.dependances"
   ]
  },
  {
   "cell_type": "code",
   "execution_count": 117,
   "metadata": {},
   "outputs": [],
   "source": [
    "premier_tour.is_valide"
   ]
  },
  {
   "cell_type": "code",
   "execution_count": null,
   "metadata": {},
   "outputs": [],
   "source": []
  },
  {
   "cell_type": "code",
   "execution_count": null,
   "metadata": {},
   "outputs": [],
   "source": []
  },
  {
   "cell_type": "code",
   "execution_count": null,
   "metadata": {},
   "outputs": [],
   "source": []
  },
  {
   "cell_type": "code",
   "execution_count": null,
   "metadata": {},
   "outputs": [],
   "source": [
    "from __future__ import annotations\n",
    "class Fig():\n",
    "    def __init__(self, nom, carac, liste_arme, armure, liste_effet):\n",
    "        self.nom = nom\n",
    "        self.carac = carac\n",
    "        self.liste_arme = liste_arme\n",
    "        self.armure = armure\n",
    "        self.liste_effet = liste_effet\n",
    "\n",
    "def is_effet_valide(\n",
    "    effet: Effet,\n",
    "    liste_nom_effet_allie: list[str],\n",
    "    liste_nom_effet_adverse: list[str],\n",
    ") -> bool:\n",
    "    \"\"\"\n",
    "    Vérifie si l'effet est valide avec les deux listes données.\n",
    "    \"\"\"\n",
    "    if not set(effet.set_nom_effet_necessaire_allie).issubset(\n",
    "        set(liste_nom_effet_allie)\n",
    "    ):\n",
    "        return False\n",
    "    if not set(effet.set_nom_effet_necessaire_adverse).issubset(\n",
    "        set(liste_nom_effet_adverse)\n",
    "    ):\n",
    "        return False\n",
    "    if set(effet.set_nom_effet_suppresseur_allie) & set(liste_nom_effet_allie):\n",
    "        return False\n",
    "    if set(effet.set_nom_effet_suppresseur_adverse) & set(liste_nom_effet_adverse):\n",
    "        return False\n",
    "    return True\n",
    "\n",
    "class SetEffet():\n",
    "    def __init__(self, set_noms_effets_origine: set[str]):\n",
    "        self.set_noms_effets_originie = set_noms_effets_origine\n",
    "        self.set_noms_effets = self.update_set()\n",
    "    \n",
    "    def ajout_noms_effets_fils(self) -> None:\n",
    "        for nom_effet in self.set_noms_effets:\n",
    "            effet: Effet = dict_effet[nom_effet]    \n",
    "            self.set_noms_effets.update(\n",
    "                effet.set_nom_effet_inclu\n",
    "            )\n",
    "    \n",
    "    def remove_non_valide_effets(self, set_nom_effet_adverse: SetEffet = set()) -> None:\n",
    "        #  neccessite dynamique\n",
    "        for nom_effet in self.set_noms_effets:\n",
    "            effet: Effet = dict_effet[nom_effet]\n",
    "            if not is_effet_valide(effet, )\n",
    "\n",
    "             \n",
    "\n",
    "    def update_set(self, set_nom_effet_adverse: SetEffet = set()) -> set[str]:\n",
    "        \"\"\"\n",
    "        Ajoute les effets fils.\n",
    "        Supprime les effets impossibles\n",
    "        \"\"\"\n",
    "\n"
   ]
  },
  {
   "cell_type": "code",
   "execution_count": 2,
   "metadata": {},
   "outputs": [
    {
     "data": {
      "text/plain": [
       "'frappe_en_dernier'"
      ]
     },
     "execution_count": 2,
     "metadata": {},
     "output_type": "execute_result"
    }
   ],
   "source": [
    "EnumEffet.frappe_en_dernier.value"
   ]
  },
  {
   "cell_type": "code",
   "execution_count": 3,
   "metadata": {},
   "outputs": [],
   "source": [
    "dict_effet[\"regeneration\"].modificateur_carac_allie.sauvegarde_invulnerable = 4"
   ]
  },
  {
   "cell_type": "code",
   "execution_count": 4,
   "metadata": {},
   "outputs": [],
   "source": [
    "dict_effet[\"frenesie\"] = Effet(\n",
    "    \"frenesie\",\n",
    "    Caracteristique(attaque=1),\n",
    "    Caracteristique(),\n",
    "    [], [], [], [], [],\n",
    ")"
   ]
  },
  {
   "cell_type": "code",
   "execution_count": 5,
   "metadata": {},
   "outputs": [],
   "source": [
    "armure_lourde = Armure(\n",
    "    \"armure_lourde\",\n",
    "    Caracteristique(sauvegarde=5),\n",
    "    [dict_effet[EnumEffet.regeneration.value]]\n",
    ")"
   ]
  },
  {
   "cell_type": "code",
   "execution_count": 6,
   "metadata": {},
   "outputs": [],
   "source": [
    "furie = Figurine(\n",
    "    \"furie\",\n",
    "    Caracteristique(5, 4, 4, 3, 3, 1, 5, 1, 8, 7, 7),\n",
    "    [dict_arme[EnumArme.deux_armes_de_base.value]],\n",
    "    [],\n",
    "    [dict_effet[\"frenesie\"], dict_effet[EnumEffet.attaque_empoisonnee.value]],\n",
    "    Socle(20, 20),\n",
    ")"
   ]
  },
  {
   "cell_type": "code",
   "execution_count": 7,
   "metadata": {},
   "outputs": [
    {
     "data": {
      "text/plain": [
       " M|CC|CT| F| E|PV| I| A|Cd|Sv|Si\n",
       " 5| 4| 4| 3| 3| 1| 5| 3| 8| 7| 7"
      ]
     },
     "execution_count": 7,
     "metadata": {},
     "output_type": "execute_result"
    }
   ],
   "source": [
    "furie.get_caracteristique_intrinseque(furie.liste_arme)"
   ]
  },
  {
   "cell_type": "code",
   "execution_count": 8,
   "metadata": {},
   "outputs": [
    {
     "data": {
      "text/plain": [
       "[AttaqueCac(caracteristique= M|CC|CT| F| E|PV| I| A|Cd|Sv|Si\n",
       "  5| 4| 4| 3| 3| 1| 5| 2| 8| 7| 7, list_effet=[Effet(nom='frenesie', modificateur_carac_allie= M|CC|CT| F| E|PV| I| A|Cd|Sv|Si\n",
       "  0| 0| 0| 0| 0| 0| 0| 1| 0| 7| 7, modificateur_carac_adverse= M|CC|CT| F| E|PV| I| A|Cd|Sv|Si\n",
       "  0| 0| 0| 0| 0| 0| 0| 0| 0| 7| 7, set_nom_effet_necessaire_allie=[], set_nom_effet_necessaire_adverse=[], set_nom_effet_suppresseur_allie=[], set_nom_effet_suppresseur_adverse=[], set_nom_effet_inclu=[]), Effet(nom='attaque_empoisonnee', modificateur_carac_allie= M|CC|CT| F| E|PV| I| A|Cd|Sv|Si\n",
       "  0| 0| 0| 0| 0| 0| 0| 0| 0| 7| 7, modificateur_carac_adverse= M|CC|CT| F| E|PV| I| A|Cd|Sv|Si\n",
       "  0| 0| 0| 0| 0| 0| 0| 0| 0| 7| 7, set_nom_effet_necessaire_allie=set(), set_nom_effet_necessaire_adverse=set(), set_nom_effet_suppresseur_allie=set(), set_nom_effet_suppresseur_adverse={'insensible_au_poison'}, set_nom_effet_inclu=set()), Effet(nom='arme_a_deux_mains', modificateur_carac_allie= M|CC|CT| F| E|PV| I| A|Cd|Sv|Si\n",
       "  0| 0| 0| 0| 0| 0| 0| 0| 0| 7| 7, modificateur_carac_adverse= M|CC|CT| F| E|PV| I| A|Cd|Sv|Si\n",
       "  0| 0| 0| 0| 0| 0| 0| 0| 0| 7| 7, set_nom_effet_necessaire_allie=set(), set_nom_effet_necessaire_adverse=set(), set_nom_effet_suppresseur_allie=set(), set_nom_effet_suppresseur_adverse=set(), set_nom_effet_inclu=set())]),\n",
       " AttaqueCac(caracteristique= M|CC|CT| F| E|PV| I| A|Cd|Sv|Si\n",
       "  5| 4| 4| 3| 3| 1| 5| 2| 8| 7| 7, list_effet=[Effet(nom='frenesie', modificateur_carac_allie= M|CC|CT| F| E|PV| I| A|Cd|Sv|Si\n",
       "  0| 0| 0| 0| 0| 0| 0| 1| 0| 7| 7, modificateur_carac_adverse= M|CC|CT| F| E|PV| I| A|Cd|Sv|Si\n",
       "  0| 0| 0| 0| 0| 0| 0| 0| 0| 7| 7, set_nom_effet_necessaire_allie=[], set_nom_effet_necessaire_adverse=[], set_nom_effet_suppresseur_allie=[], set_nom_effet_suppresseur_adverse=[], set_nom_effet_inclu=[]), Effet(nom='attaque_empoisonnee', modificateur_carac_allie= M|CC|CT| F| E|PV| I| A|Cd|Sv|Si\n",
       "  0| 0| 0| 0| 0| 0| 0| 0| 0| 7| 7, modificateur_carac_adverse= M|CC|CT| F| E|PV| I| A|Cd|Sv|Si\n",
       "  0| 0| 0| 0| 0| 0| 0| 0| 0| 7| 7, set_nom_effet_necessaire_allie=set(), set_nom_effet_necessaire_adverse=set(), set_nom_effet_suppresseur_allie=set(), set_nom_effet_suppresseur_adverse={'insensible_au_poison'}, set_nom_effet_inclu=set()), Effet(nom='arme_a_deux_mains', modificateur_carac_allie= M|CC|CT| F| E|PV| I| A|Cd|Sv|Si\n",
       "  0| 0| 0| 0| 0| 0| 0| 0| 0| 7| 7, modificateur_carac_adverse= M|CC|CT| F| E|PV| I| A|Cd|Sv|Si\n",
       "  0| 0| 0| 0| 0| 0| 0| 0| 0| 7| 7, set_nom_effet_necessaire_allie=set(), set_nom_effet_necessaire_adverse=set(), set_nom_effet_suppresseur_allie=set(), set_nom_effet_suppresseur_adverse=set(), set_nom_effet_inclu=set())])]"
      ]
     },
     "execution_count": 8,
     "metadata": {},
     "output_type": "execute_result"
    }
   ],
   "source": [
    "furie.get_liste_attaque(furie.liste_arme)"
   ]
  },
  {
   "cell_type": "code",
   "execution_count": 9,
   "metadata": {},
   "outputs": [],
   "source": [
    "humain = Figurine(\n",
    "    \"humain\",\n",
    "    Caracteristique(4, 3, 3, 3, 3, 1, 3, 1, 7, 7, 7),\n",
    "    [\n",
    "        dict_arme[EnumArme.arme_de_base.value],\n",
    "        dict_arme[EnumArme.arme_lourde.value]\n",
    "    ],\n",
    "    armure_lourde,\n",
    "    [dict_effet[EnumEffet.attaque_empoisonnee.value]],\n",
    "    Socle(20, 20),\n",
    ")"
   ]
  },
  {
   "cell_type": "code",
   "execution_count": 13,
   "metadata": {},
   "outputs": [
    {
     "data": {
      "text/plain": [
       "Arme(nom='arme_lourde', modification_caracteristique=Caracteristique(mouvement=0, capa_combat=0, capa_tir=0, force=2.0, endurance=0, point_de_vie=0, initiative=0, attaque=0, commandement=0, sauvegarde=7, sauvegarde_invulnerable=7), liste_effet={'frappe_en_dernier', 'arme_a_deux_mains'}, liste_effet_necessaire_allie=set(), type_arme=<TypeArme.arme_deux_mains: 3>)"
      ]
     },
     "execution_count": 13,
     "metadata": {},
     "output_type": "execute_result"
    }
   ],
   "source": [
    "dict_arme[EnumArme.arme_lourde.value]"
   ]
  },
  {
   "cell_type": "code",
   "execution_count": 10,
   "metadata": {},
   "outputs": [],
   "source": [
    "humain_equipe = humain.get_figurine_equipee([dict_arme[EnumArme.arme_lourde.value]])"
   ]
  },
  {
   "cell_type": "code",
   "execution_count": 11,
   "metadata": {},
   "outputs": [
    {
     "data": {
      "text/plain": [
       "[Effet(nom='attaque_empoisonnee', modificateur_carac_allie=Caracteristique(mouvement=0, capa_combat=0, capa_tir=0, force=0, endurance=0, point_de_vie=0, initiative=0, attaque=0, commandement=0, sauvegarde=7, sauvegarde_invulnerable=7), modificateur_carac_adverse=Caracteristique(mouvement=0, capa_combat=0, capa_tir=0, force=0, endurance=0, point_de_vie=0, initiative=0, attaque=0, commandement=0, sauvegarde=7, sauvegarde_invulnerable=7), set_nom_effet_necessaire_allie=set(), set_nom_effet_necessaire_adverse=set(), set_nom_effet_suppresseur_allie=set(), set_nom_effet_suppresseur_adverse={'insensible_au_poison'}, set_nom_effet_inclu=set()),\n",
       " Effet(nom='regeneration', modificateur_carac_allie=Caracteristique(mouvement=0, capa_combat=0, capa_tir=0, force=0, endurance=0, point_de_vie=0, initiative=0, attaque=0, commandement=0, sauvegarde=7, sauvegarde_invulnerable=7), modificateur_carac_adverse=Caracteristique(mouvement=0, capa_combat=0, capa_tir=0, force=0, endurance=0, point_de_vie=0, initiative=0, attaque=0, commandement=0, sauvegarde=7, sauvegarde_invulnerable=7), set_nom_effet_necessaire_allie=set(), set_nom_effet_necessaire_adverse=set(), set_nom_effet_suppresseur_allie=set(), set_nom_effet_suppresseur_adverse={'attaque_enflammee'}, set_nom_effet_inclu=set()),\n",
       " 'frappe_en_dernier',\n",
       " 'arme_a_deux_mains']"
      ]
     },
     "execution_count": 11,
     "metadata": {},
     "output_type": "execute_result"
    }
   ],
   "source": [
    "humain_equipe.liste_effet"
   ]
  },
  {
   "cell_type": "code",
   "execution_count": 7,
   "metadata": {},
   "outputs": [],
   "source": [
    "def get_dict_effet(liste_effet):\n",
    "    dico = {}\n",
    "    for effet in liste_effet:\n",
    "        dico[effet.nom] = effet\n",
    "    return dico"
   ]
  },
  {
   "cell_type": "code",
   "execution_count": 8,
   "metadata": {},
   "outputs": [
    {
     "data": {
      "text/plain": [
       "dict_keys(['attaque_empoisonnee', 'regeneration', 'frappe_en_dernier'])"
      ]
     },
     "execution_count": 8,
     "metadata": {},
     "output_type": "execute_result"
    }
   ],
   "source": [
    "get_dict_effet(humain_equipe.liste_effet).keys()"
   ]
  },
  {
   "cell_type": "code",
   "execution_count": 9,
   "metadata": {},
   "outputs": [
    {
     "name": "stderr",
     "output_type": "stream",
     "text": [
      "2023-07-31 00:58:24 INFO     [combat_individuel.py:207] attaque_empoisonnee\n",
      "2023-07-31 00:58:24 INFO     [combat_individuel.py:114] attaque_empoisonnee\n",
      "2023-07-31 00:58:24 INFO     [combat_individuel.py:121] toucher: 0.33333333333333337\n",
      "2023-07-31 00:58:24 INFO     [combat_individuel.py:126] blesser: 0.8333333333333334\n",
      "2023-07-31 00:58:24 INFO     [combat_individuel.py:134] toucher/blesser tot 0.44444444444444453\n",
      "2023-07-31 00:58:24 INFO     [combat_individuel.py:147] final: 0.44444444444444453\n"
     ]
    },
    {
     "data": {
      "text/plain": [
       "{1: 0.44444444444444453}"
      ]
     },
     "execution_count": 9,
     "metadata": {},
     "output_type": "execute_result"
    }
   ],
   "source": [
    "dict_nb_pv_perdu_probabilite(\n",
    "    humain_equipe.liste_attaque[0],\n",
    "    humain_equipe.caracteristique_effective,\n",
    "    get_dict_effet(humain_equipe.liste_effet).keys(),\n",
    ")"
   ]
  },
  {
   "cell_type": "code",
   "execution_count": 21,
   "metadata": {},
   "outputs": [
    {
     "data": {
      "text/plain": [
       "3"
      ]
     },
     "execution_count": 21,
     "metadata": {},
     "output_type": "execute_result"
    }
   ],
   "source": [
    "humain_equipe.caracteristique_effective.endurance"
   ]
  },
  {
   "cell_type": "code",
   "execution_count": 12,
   "metadata": {},
   "outputs": [],
   "source": [
    "def proba_relance(p):\n",
    "    return p + (1-p)*p"
   ]
  },
  {
   "cell_type": "code",
   "execution_count": 16,
   "metadata": {},
   "outputs": [
    {
     "data": {
      "text/plain": [
       "0.5555555555555556"
      ]
     },
     "execution_count": 16,
     "metadata": {},
     "output_type": "execute_result"
    }
   ],
   "source": [
    "proba_relance(1/3)"
   ]
  },
  {
   "cell_type": "code",
   "execution_count": 11,
   "metadata": {},
   "outputs": [
    {
     "data": {
      "text/plain": [
       "0.4444444444444444"
      ]
     },
     "execution_count": 11,
     "metadata": {},
     "output_type": "execute_result"
    }
   ],
   "source": [
    "1/3*5/6 + 1/6"
   ]
  },
  {
   "cell_type": "code",
   "execution_count": 80,
   "metadata": {},
   "outputs": [
    {
     "data": {
      "text/plain": [
       "0.027777777777777776"
      ]
     },
     "execution_count": 80,
     "metadata": {},
     "output_type": "execute_result"
    }
   ],
   "source": [
    "1/2*1/6*1/2*2/3"
   ]
  },
  {
   "cell_type": "code",
   "execution_count": 81,
   "metadata": {},
   "outputs": [
    {
     "data": {
      "text/plain": [
       "0.05555555555555555"
      ]
     },
     "execution_count": 81,
     "metadata": {},
     "output_type": "execute_result"
    }
   ],
   "source": [
    "1/2*1/6*2/3"
   ]
  },
  {
   "cell_type": "code",
   "execution_count": 82,
   "metadata": {},
   "outputs": [
    {
     "data": {
      "text/plain": [
       "0.027777777777777776"
      ]
     },
     "execution_count": 82,
     "metadata": {},
     "output_type": "execute_result"
    }
   ],
   "source": [
    "1/36"
   ]
  },
  {
   "cell_type": "code",
   "execution_count": null,
   "metadata": {},
   "outputs": [],
   "source": []
  }
 ],
 "metadata": {
  "kernelspec": {
   "display_name": "mentat",
   "language": "python",
   "name": "python3"
  },
  "language_info": {
   "codemirror_mode": {
    "name": "ipython",
    "version": 3
   },
   "file_extension": ".py",
   "mimetype": "text/x-python",
   "name": "python",
   "nbconvert_exporter": "python",
   "pygments_lexer": "ipython3",
   "version": "3.11.4"
  },
  "orig_nbformat": 4
 },
 "nbformat": 4,
 "nbformat_minor": 2
}
