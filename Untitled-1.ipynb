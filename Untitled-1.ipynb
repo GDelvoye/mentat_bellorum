{
 "cells": [
  {
   "cell_type": "code",
   "execution_count": 5,
   "metadata": {},
   "outputs": [],
   "source": [
    "from back.src.effet.effet import Effet\n",
    "from back.src.figurine.caracteristique import Caracteristique\n",
    "from back.src.figurine.figurine import *"
   ]
  },
  {
   "cell_type": "code",
   "execution_count": 6,
   "metadata": {},
   "outputs": [],
   "source": [
    "from enum import Enum\n",
    "from abc import ABC\n",
    "c = Caracteristique(0, 0, 0, 0, 0 ,0,0,0,0,0,0)"
   ]
  },
  {
   "cell_type": "code",
   "execution_count": 7,
   "metadata": {},
   "outputs": [],
   "source": [
    "@dataclass\n",
    "class Equipement(ABC):\n",
    "    nom: str\n",
    "    modification_caracteristique: Caracteristique\n",
    "    liste_effet: list[Effet]\n",
    "\n",
    "class TypeEquipement(Enum):\n",
    "    arme=1\n",
    "    bouclier = 4\n",
    "    armure = 5\n",
    "\n",
    "class TypeArme(Enum):\n",
    "    arme_base=1\n",
    "    arme_1 = 2\n",
    "    arme_2 = 3\n",
    "    arme_tir = 4\n",
    "\n",
    "@dataclass\n",
    "class Armure(Equipement):\n",
    "    type_equipement = TypeEquipement.armure\n",
    "\n",
    "@dataclass\n",
    "class Arme(Equipement):\n",
    "    type_arme: TypeArme\n",
    "    type_equipement = TypeEquipement.arme\n",
    "\n",
    "@dataclass\n",
    "class Bouclier(Arme):\n",
    "    type_arme = TypeEquipement.bouclier\n",
    "    type_equipement = TypeEquipement.arme"
   ]
  },
  {
   "cell_type": "code",
   "execution_count": 8,
   "metadata": {},
   "outputs": [],
   "source": [
    "armure = Armure(\"armure\", c, [])"
   ]
  },
  {
   "cell_type": "code",
   "execution_count": 9,
   "metadata": {},
   "outputs": [],
   "source": [
    "arc = Arme(\"arc\", c, [], TypeArme.arme_tir)"
   ]
  },
  {
   "cell_type": "code",
   "execution_count": 10,
   "metadata": {},
   "outputs": [],
   "source": [
    "arc.pipi = \"caca\""
   ]
  },
  {
   "cell_type": "code",
   "execution_count": 11,
   "metadata": {},
   "outputs": [
    {
     "data": {
      "text/plain": [
       "'caca'"
      ]
     },
     "execution_count": 11,
     "metadata": {},
     "output_type": "execute_result"
    }
   ],
   "source": [
    "arc.pipi"
   ]
  },
  {
   "cell_type": "code",
   "execution_count": 12,
   "metadata": {},
   "outputs": [],
   "source": [
    "if arc.type_equipement == TypeEquipement.armure:\n",
    "    print(True)"
   ]
  },
  {
   "cell_type": "code",
   "execution_count": 13,
   "metadata": {},
   "outputs": [],
   "source": [
    "from __future__ import annotations\n",
    "from dataclasses import dataclass\n",
    "import copy\n",
    "@dataclass\n",
    "class AA:\n",
    "    m: int\n",
    "    cc: int\n",
    "\n",
    "    def __add__(self, other: AA) -> AA:\n",
    "        new_instance = AA(\n",
    "            self.m + other.m,\n",
    "            self.cc + other.cc,\n",
    "        )\n",
    "        return new_instance\n",
    "\n"
   ]
  },
  {
   "cell_type": "code",
   "execution_count": 14,
   "metadata": {},
   "outputs": [],
   "source": [
    "c1 = AA(4, 4)\n",
    "c2 = AA(2, -2)"
   ]
  },
  {
   "cell_type": "code",
   "execution_count": 15,
   "metadata": {},
   "outputs": [
    {
     "data": {
      "text/plain": [
       "__main__.AA"
      ]
     },
     "execution_count": 15,
     "metadata": {},
     "output_type": "execute_result"
    }
   ],
   "source": [
    "type(c1)"
   ]
  },
  {
   "cell_type": "code",
   "execution_count": 16,
   "metadata": {},
   "outputs": [
    {
     "ename": "TypeError",
     "evalue": "Effet.__init__() missing 7 required positional arguments: 'modificateur_carac_allie', 'modificateur_carac_adverse', 'liste_nom_effet_necessaire_allie', 'liste_nom_effet_necessaire_adverse', 'liste_nom_effet_suppresseur_allie', 'liste_nom_effet_suppresseur_adverse', and 'liste_nom_effet_inclu'",
     "output_type": "error",
     "traceback": [
      "\u001b[1;31m---------------------------------------------------------------------------\u001b[0m",
      "\u001b[1;31mTypeError\u001b[0m                                 Traceback (most recent call last)",
      "Cell \u001b[1;32mIn[16], line 1\u001b[0m\n\u001b[1;32m----> 1\u001b[0m effet_perforant \u001b[39m=\u001b[39m Effet(\u001b[39m\"\u001b[39;49m\u001b[39mperforant\u001b[39;49m\u001b[39m\"\u001b[39;49m)\n",
      "\u001b[1;31mTypeError\u001b[0m: Effet.__init__() missing 7 required positional arguments: 'modificateur_carac_allie', 'modificateur_carac_adverse', 'liste_nom_effet_necessaire_allie', 'liste_nom_effet_necessaire_adverse', 'liste_nom_effet_suppresseur_allie', 'liste_nom_effet_suppresseur_adverse', and 'liste_nom_effet_inclu'"
     ]
    }
   ],
   "source": [
    "effet_perforant = Effet(\"perforant\")"
   ]
  },
  {
   "cell_type": "code",
   "execution_count": 4,
   "metadata": {},
   "outputs": [],
   "source": [
    "arme = Arme(\"arme\", Caracteristique(0, 0, 0, 1, 0, 0, 0, 0, 0), [effet_perforant])\n",
    "humain = Fantassin(\"troupier\", Caracteristique(4, 3, 3, 3, 3, 1, 3, 1, 7), [arme], [], 20)"
   ]
  },
  {
   "cell_type": "code",
   "execution_count": 6,
   "metadata": {},
   "outputs": [
    {
     "data": {
      "text/plain": [
       "3"
      ]
     },
     "execution_count": 6,
     "metadata": {},
     "output_type": "execute_result"
    }
   ],
   "source": [
    "humain.caracteristique.force"
   ]
  },
  {
   "cell_type": "code",
   "execution_count": 10,
   "metadata": {},
   "outputs": [],
   "source": [
    "l1 = set([\"a\", \"b\"])\n",
    "l2 = set([\"b\", \"a\", \"c\", \"a\"])"
   ]
  },
  {
   "cell_type": "code",
   "execution_count": 11,
   "metadata": {},
   "outputs": [],
   "source": [
    "\n",
    "if not l1.issubset(l2):\n",
    "    print(True)"
   ]
  },
  {
   "cell_type": "code",
   "execution_count": 18,
   "metadata": {},
   "outputs": [],
   "source": [
    "import pandas as pd"
   ]
  },
  {
   "cell_type": "code",
   "execution_count": 19,
   "metadata": {},
   "outputs": [],
   "source": [
    "df_effet = pd.read_csv(\"back/data/effets.csv\")"
   ]
  },
  {
   "cell_type": "code",
   "execution_count": 26,
   "metadata": {},
   "outputs": [],
   "source": [
    "def create_effet(nom_effet: str):\n",
    "    if nom_effet in df_effet[\"nom\"].values:\n",
    "        df_nom = df_effet[df_effet[\"nom\"] == nom_effet]\n",
    "        if df_nom.isnull()[\"necessaire_allie\"].values[0]:\n",
    "            liste_necessaire_allie = []\n",
    "        else:\n",
    "            liste_necessaire_allie = df_nom[\"necessaire_allie\"].values[0].split(\";\")\n",
    "        if df_nom.isnull()[\"necessaire_adverse\"].values[0]:\n",
    "            liste_necessaire_adverse = []\n",
    "        else:\n",
    "            liste_necessaire_adverse = df_nom[\"necessaire_adverse\"].values[0].split(\";\")\n",
    "        if df_nom.isnull()[\"suppresseur_allie\"].values[0]:\n",
    "            liste_suppresseur_allie = []\n",
    "        else:\n",
    "            liste_suppresseur_allie = df_nom[\"suppresseur_allie\"].values[0].split(\";\")\n",
    "        if df_nom.isnull()[\"suppresseur_adverse\"].values[0]:\n",
    "            liste_suppresseur_adverse = []\n",
    "        else:\n",
    "            liste_suppresseur_adverse = df_nom[\"suppresseur_adverse\"].values[0].split(\";\")\n",
    "        if df_nom.isnull()[\"effet_inclu\"].values[0]:\n",
    "            liste_effet_inclu = []\n",
    "        else:\n",
    "            liste_effet_inclu = df_nom[\"effet_inclu\"].values[0].split(\";\")\n",
    "        return Effet(\n",
    "            nom_effet,\n",
    "            Caracteristique(),\n",
    "            Caracteristique(),\n",
    "            set(liste_necessaire_allie),\n",
    "            set(liste_necessaire_adverse),\n",
    "            set(liste_suppresseur_allie),\n",
    "            set(liste_suppresseur_adverse),\n",
    "            set(liste_effet_inclu),\n",
    "        )\n",
    "    else:\n",
    "        print(f\"{nom_effet} pas dans csv\")\n",
    "        \n",
    "        \n",
    "        \n",
    "        "
   ]
  },
  {
   "cell_type": "code",
   "execution_count": 27,
   "metadata": {},
   "outputs": [
    {
     "data": {
      "text/plain": [
       "{'', 'insensible_a_la_psychologie', 'peur', 'terreur'}"
      ]
     },
     "execution_count": 27,
     "metadata": {},
     "output_type": "execute_result"
    }
   ],
   "source": [
    "create_effet(\"peur\").liste_nom_effet_suppresseur_adverse"
   ]
  },
  {
   "cell_type": "code",
   "execution_count": 39,
   "metadata": {},
   "outputs": [
    {
     "data": {
      "text/plain": [
       "True"
      ]
     },
     "execution_count": 39,
     "metadata": {},
     "output_type": "execute_result"
    }
   ],
   "source": [
    "df_effet[df_effet[\"nom\"] == \"horde\"].isnull()[\"necessaire_adverse\"].values[0]"
   ]
  },
  {
   "cell_type": "code",
   "execution_count": 36,
   "metadata": {},
   "outputs": [
    {
     "data": {
      "text/plain": [
       "nan"
      ]
     },
     "execution_count": 36,
     "metadata": {},
     "output_type": "execute_result"
    }
   ],
   "source": [
    "df_effet[df_effet[\"nom\"] == \"horde\"][\"necessaire_adverse\"].values[0]"
   ]
  },
  {
   "cell_type": "code",
   "execution_count": 34,
   "metadata": {},
   "outputs": [
    {
     "data": {
      "text/plain": [
       "['charge']"
      ]
     },
     "execution_count": 34,
     "metadata": {},
     "output_type": "execute_result"
    }
   ],
   "source": [
    "df_effet[df_effet[\"nom\"] == \"horde\"][\"necessaire_allie\"].values[0].split(\";\")"
   ]
  },
  {
   "cell_type": "code",
   "execution_count": 32,
   "metadata": {},
   "outputs": [
    {
     "ename": "AttributeError",
     "evalue": "'float' object has no attribute 'split'",
     "output_type": "error",
     "traceback": [
      "\u001b[1;31m---------------------------------------------------------------------------\u001b[0m",
      "\u001b[1;31mAttributeError\u001b[0m                            Traceback (most recent call last)",
      "Cell \u001b[1;32mIn[32], line 1\u001b[0m\n\u001b[1;32m----> 1\u001b[0m df_effet[df_effet[\u001b[39m\"\u001b[39;49m\u001b[39mnom\u001b[39;49m\u001b[39m\"\u001b[39;49m] \u001b[39m==\u001b[39;49m \u001b[39m\"\u001b[39;49m\u001b[39mpeur\u001b[39;49m\u001b[39m\"\u001b[39;49m][\u001b[39m\"\u001b[39;49m\u001b[39mnecessaire_adverse\u001b[39;49m\u001b[39m\"\u001b[39;49m]\u001b[39m.\u001b[39;49mvalues[\u001b[39m0\u001b[39;49m]\u001b[39m.\u001b[39;49msplit(\u001b[39m\"\u001b[39m\u001b[39m;\u001b[39m\u001b[39m\"\u001b[39m)\n",
      "\u001b[1;31mAttributeError\u001b[0m: 'float' object has no attribute 'split'"
     ]
    }
   ],
   "source": [
    "df_effet[df_effet[\"nom\"] == \"peur\"][\"necessaire_adverse\"].values[0].split(\";\")"
   ]
  },
  {
   "cell_type": "code",
   "execution_count": 25,
   "metadata": {},
   "outputs": [
    {
     "name": "stdout",
     "output_type": "stream",
     "text": [
      "1\n"
     ]
    }
   ],
   "source": [
    "if \"charge\" in df_effet[\"nom\"].values:\n",
    "    print(1)"
   ]
  },
  {
   "cell_type": "code",
   "execution_count": null,
   "metadata": {},
   "outputs": [],
   "source": []
  }
 ],
 "metadata": {
  "kernelspec": {
   "display_name": "mentat",
   "language": "python",
   "name": "python3"
  },
  "language_info": {
   "codemirror_mode": {
    "name": "ipython",
    "version": 3
   },
   "file_extension": ".py",
   "mimetype": "text/x-python",
   "name": "python",
   "nbconvert_exporter": "python",
   "pygments_lexer": "ipython3",
   "version": "3.11.4"
  },
  "orig_nbformat": 4
 },
 "nbformat": 4,
 "nbformat_minor": 2
}
