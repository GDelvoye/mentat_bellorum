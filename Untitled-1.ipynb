{
 "cells": [
  {
   "cell_type": "code",
   "execution_count": 1,
   "metadata": {},
   "outputs": [],
   "source": [
    "from __future__ import annotations\n",
    "from back.src.effet.effet import EffetTheorique\n",
    "import back.src.effet.effet as effet\n",
    "from back.src.parser.type import EnumEffet, EnumArme\n",
    "from back.src.equipement.equipement import Equipement, Arme, Armure, TypeArme\n",
    "from back.src.figurine.caracteristique import Caracteristique\n",
    "from back.src.figurine.figurine import Figurine, FigurineEquipee, Socle\n",
    "from back.src.parser.dict_arme_from_csv import dict_arme\n",
    "from back.src.parser.dict_effet_from_csv import dict_effet\n",
    "from back.src.combat.combat_individuel import dict_nb_pv_perdu_probabilite"
   ]
  },
  {
   "cell_type": "code",
   "execution_count": 10,
   "metadata": {},
   "outputs": [
    {
     "data": {
      "text/plain": [
       "True"
      ]
     },
     "execution_count": 10,
     "metadata": {},
     "output_type": "execute_result"
    }
   ],
   "source": [
    "d = effet.get_dict_effet_pratique_from_liste_nom(\n",
    "    set([EnumEffet.regeneration.value]),\n",
    "    set([EnumEffet.attaque_enflammee.value]),\n",
    ")\n",
    "d[\"regeneration\"].check_is_valide()"
   ]
  },
  {
   "cell_type": "code",
   "execution_count": null,
   "metadata": {},
   "outputs": [],
   "source": []
  },
  {
   "cell_type": "code",
   "execution_count": null,
   "metadata": {},
   "outputs": [],
   "source": []
  },
  {
   "cell_type": "code",
   "execution_count": 2,
   "metadata": {},
   "outputs": [
    {
     "data": {
      "text/plain": [
       "'frappe_en_dernier'"
      ]
     },
     "execution_count": 2,
     "metadata": {},
     "output_type": "execute_result"
    }
   ],
   "source": [
    "EnumEffet.frappe_en_dernier.value"
   ]
  },
  {
   "cell_type": "code",
   "execution_count": 3,
   "metadata": {},
   "outputs": [],
   "source": [
    "dict_effet[\"regeneration\"].modificateur_carac_allie.sauvegarde_invulnerable = 4"
   ]
  },
  {
   "cell_type": "code",
   "execution_count": 4,
   "metadata": {},
   "outputs": [],
   "source": [
    "dict_effet[\"frenesie\"] = Effet(\n",
    "    \"frenesie\",\n",
    "    Caracteristique(attaque=1),\n",
    "    Caracteristique(),\n",
    "    [], [], [], [], [],\n",
    ")"
   ]
  },
  {
   "cell_type": "code",
   "execution_count": 5,
   "metadata": {},
   "outputs": [],
   "source": [
    "armure_lourde = Armure(\n",
    "    \"armure_lourde\",\n",
    "    Caracteristique(sauvegarde=5),\n",
    "    [dict_effet[EnumEffet.regeneration.value]]\n",
    ")"
   ]
  },
  {
   "cell_type": "code",
   "execution_count": 6,
   "metadata": {},
   "outputs": [],
   "source": [
    "furie = Figurine(\n",
    "    \"furie\",\n",
    "    Caracteristique(5, 4, 4, 3, 3, 1, 5, 1, 8, 7, 7),\n",
    "    [dict_arme[EnumArme.deux_armes_de_base.value]],\n",
    "    [],\n",
    "    [dict_effet[\"frenesie\"], dict_effet[EnumEffet.attaque_empoisonnee.value]],\n",
    "    Socle(20, 20),\n",
    ")"
   ]
  },
  {
   "cell_type": "code",
   "execution_count": 7,
   "metadata": {},
   "outputs": [
    {
     "data": {
      "text/plain": [
       " M|CC|CT| F| E|PV| I| A|Cd|Sv|Si\n",
       " 5| 4| 4| 3| 3| 1| 5| 3| 8| 7| 7"
      ]
     },
     "execution_count": 7,
     "metadata": {},
     "output_type": "execute_result"
    }
   ],
   "source": [
    "furie.get_caracteristique_intrinseque(furie.liste_arme)"
   ]
  },
  {
   "cell_type": "code",
   "execution_count": 8,
   "metadata": {},
   "outputs": [
    {
     "data": {
      "text/plain": [
       "[AttaqueCac(caracteristique= M|CC|CT| F| E|PV| I| A|Cd|Sv|Si\n",
       "  5| 4| 4| 3| 3| 1| 5| 2| 8| 7| 7, list_effet=[Effet(nom='frenesie', modificateur_carac_allie= M|CC|CT| F| E|PV| I| A|Cd|Sv|Si\n",
       "  0| 0| 0| 0| 0| 0| 0| 1| 0| 7| 7, modificateur_carac_adverse= M|CC|CT| F| E|PV| I| A|Cd|Sv|Si\n",
       "  0| 0| 0| 0| 0| 0| 0| 0| 0| 7| 7, set_nom_effet_necessaire_allie=[], set_nom_effet_necessaire_adverse=[], set_nom_effet_suppresseur_allie=[], set_nom_effet_suppresseur_adverse=[], set_nom_effet_inclu=[]), Effet(nom='attaque_empoisonnee', modificateur_carac_allie= M|CC|CT| F| E|PV| I| A|Cd|Sv|Si\n",
       "  0| 0| 0| 0| 0| 0| 0| 0| 0| 7| 7, modificateur_carac_adverse= M|CC|CT| F| E|PV| I| A|Cd|Sv|Si\n",
       "  0| 0| 0| 0| 0| 0| 0| 0| 0| 7| 7, set_nom_effet_necessaire_allie=set(), set_nom_effet_necessaire_adverse=set(), set_nom_effet_suppresseur_allie=set(), set_nom_effet_suppresseur_adverse={'insensible_au_poison'}, set_nom_effet_inclu=set()), Effet(nom='arme_a_deux_mains', modificateur_carac_allie= M|CC|CT| F| E|PV| I| A|Cd|Sv|Si\n",
       "  0| 0| 0| 0| 0| 0| 0| 0| 0| 7| 7, modificateur_carac_adverse= M|CC|CT| F| E|PV| I| A|Cd|Sv|Si\n",
       "  0| 0| 0| 0| 0| 0| 0| 0| 0| 7| 7, set_nom_effet_necessaire_allie=set(), set_nom_effet_necessaire_adverse=set(), set_nom_effet_suppresseur_allie=set(), set_nom_effet_suppresseur_adverse=set(), set_nom_effet_inclu=set())]),\n",
       " AttaqueCac(caracteristique= M|CC|CT| F| E|PV| I| A|Cd|Sv|Si\n",
       "  5| 4| 4| 3| 3| 1| 5| 2| 8| 7| 7, list_effet=[Effet(nom='frenesie', modificateur_carac_allie= M|CC|CT| F| E|PV| I| A|Cd|Sv|Si\n",
       "  0| 0| 0| 0| 0| 0| 0| 1| 0| 7| 7, modificateur_carac_adverse= M|CC|CT| F| E|PV| I| A|Cd|Sv|Si\n",
       "  0| 0| 0| 0| 0| 0| 0| 0| 0| 7| 7, set_nom_effet_necessaire_allie=[], set_nom_effet_necessaire_adverse=[], set_nom_effet_suppresseur_allie=[], set_nom_effet_suppresseur_adverse=[], set_nom_effet_inclu=[]), Effet(nom='attaque_empoisonnee', modificateur_carac_allie= M|CC|CT| F| E|PV| I| A|Cd|Sv|Si\n",
       "  0| 0| 0| 0| 0| 0| 0| 0| 0| 7| 7, modificateur_carac_adverse= M|CC|CT| F| E|PV| I| A|Cd|Sv|Si\n",
       "  0| 0| 0| 0| 0| 0| 0| 0| 0| 7| 7, set_nom_effet_necessaire_allie=set(), set_nom_effet_necessaire_adverse=set(), set_nom_effet_suppresseur_allie=set(), set_nom_effet_suppresseur_adverse={'insensible_au_poison'}, set_nom_effet_inclu=set()), Effet(nom='arme_a_deux_mains', modificateur_carac_allie= M|CC|CT| F| E|PV| I| A|Cd|Sv|Si\n",
       "  0| 0| 0| 0| 0| 0| 0| 0| 0| 7| 7, modificateur_carac_adverse= M|CC|CT| F| E|PV| I| A|Cd|Sv|Si\n",
       "  0| 0| 0| 0| 0| 0| 0| 0| 0| 7| 7, set_nom_effet_necessaire_allie=set(), set_nom_effet_necessaire_adverse=set(), set_nom_effet_suppresseur_allie=set(), set_nom_effet_suppresseur_adverse=set(), set_nom_effet_inclu=set())])]"
      ]
     },
     "execution_count": 8,
     "metadata": {},
     "output_type": "execute_result"
    }
   ],
   "source": [
    "furie.get_liste_attaque(furie.liste_arme)"
   ]
  },
  {
   "cell_type": "code",
   "execution_count": 9,
   "metadata": {},
   "outputs": [],
   "source": [
    "humain = Figurine(\n",
    "    \"humain\",\n",
    "    Caracteristique(4, 3, 3, 3, 3, 1, 3, 1, 7, 7, 7),\n",
    "    [\n",
    "        dict_arme[EnumArme.arme_de_base.value],\n",
    "        dict_arme[EnumArme.arme_lourde.value]\n",
    "    ],\n",
    "    armure_lourde,\n",
    "    [dict_effet[EnumEffet.attaque_empoisonnee.value]],\n",
    "    Socle(20, 20),\n",
    ")"
   ]
  },
  {
   "cell_type": "code",
   "execution_count": 13,
   "metadata": {},
   "outputs": [
    {
     "data": {
      "text/plain": [
       "Arme(nom='arme_lourde', modification_caracteristique=Caracteristique(mouvement=0, capa_combat=0, capa_tir=0, force=2.0, endurance=0, point_de_vie=0, initiative=0, attaque=0, commandement=0, sauvegarde=7, sauvegarde_invulnerable=7), liste_effet={'frappe_en_dernier', 'arme_a_deux_mains'}, liste_effet_necessaire_allie=set(), type_arme=<TypeArme.arme_deux_mains: 3>)"
      ]
     },
     "execution_count": 13,
     "metadata": {},
     "output_type": "execute_result"
    }
   ],
   "source": [
    "dict_arme[EnumArme.arme_lourde.value]"
   ]
  },
  {
   "cell_type": "code",
   "execution_count": 10,
   "metadata": {},
   "outputs": [],
   "source": [
    "humain_equipe = humain.get_figurine_equipee([dict_arme[EnumArme.arme_lourde.value]])"
   ]
  },
  {
   "cell_type": "code",
   "execution_count": 11,
   "metadata": {},
   "outputs": [
    {
     "data": {
      "text/plain": [
       "[Effet(nom='attaque_empoisonnee', modificateur_carac_allie=Caracteristique(mouvement=0, capa_combat=0, capa_tir=0, force=0, endurance=0, point_de_vie=0, initiative=0, attaque=0, commandement=0, sauvegarde=7, sauvegarde_invulnerable=7), modificateur_carac_adverse=Caracteristique(mouvement=0, capa_combat=0, capa_tir=0, force=0, endurance=0, point_de_vie=0, initiative=0, attaque=0, commandement=0, sauvegarde=7, sauvegarde_invulnerable=7), set_nom_effet_necessaire_allie=set(), set_nom_effet_necessaire_adverse=set(), set_nom_effet_suppresseur_allie=set(), set_nom_effet_suppresseur_adverse={'insensible_au_poison'}, set_nom_effet_inclu=set()),\n",
       " Effet(nom='regeneration', modificateur_carac_allie=Caracteristique(mouvement=0, capa_combat=0, capa_tir=0, force=0, endurance=0, point_de_vie=0, initiative=0, attaque=0, commandement=0, sauvegarde=7, sauvegarde_invulnerable=7), modificateur_carac_adverse=Caracteristique(mouvement=0, capa_combat=0, capa_tir=0, force=0, endurance=0, point_de_vie=0, initiative=0, attaque=0, commandement=0, sauvegarde=7, sauvegarde_invulnerable=7), set_nom_effet_necessaire_allie=set(), set_nom_effet_necessaire_adverse=set(), set_nom_effet_suppresseur_allie=set(), set_nom_effet_suppresseur_adverse={'attaque_enflammee'}, set_nom_effet_inclu=set()),\n",
       " 'frappe_en_dernier',\n",
       " 'arme_a_deux_mains']"
      ]
     },
     "execution_count": 11,
     "metadata": {},
     "output_type": "execute_result"
    }
   ],
   "source": [
    "humain_equipe.liste_effet"
   ]
  },
  {
   "cell_type": "code",
   "execution_count": 7,
   "metadata": {},
   "outputs": [],
   "source": [
    "def get_dict_effet(liste_effet):\n",
    "    dico = {}\n",
    "    for effet in liste_effet:\n",
    "        dico[effet.nom] = effet\n",
    "    return dico"
   ]
  },
  {
   "cell_type": "code",
   "execution_count": 8,
   "metadata": {},
   "outputs": [
    {
     "data": {
      "text/plain": [
       "dict_keys(['attaque_empoisonnee', 'regeneration', 'frappe_en_dernier'])"
      ]
     },
     "execution_count": 8,
     "metadata": {},
     "output_type": "execute_result"
    }
   ],
   "source": [
    "get_dict_effet(humain_equipe.liste_effet).keys()"
   ]
  },
  {
   "cell_type": "code",
   "execution_count": 9,
   "metadata": {},
   "outputs": [
    {
     "name": "stderr",
     "output_type": "stream",
     "text": [
      "2023-07-31 00:58:24 INFO     [combat_individuel.py:207] attaque_empoisonnee\n",
      "2023-07-31 00:58:24 INFO     [combat_individuel.py:114] attaque_empoisonnee\n",
      "2023-07-31 00:58:24 INFO     [combat_individuel.py:121] toucher: 0.33333333333333337\n",
      "2023-07-31 00:58:24 INFO     [combat_individuel.py:126] blesser: 0.8333333333333334\n",
      "2023-07-31 00:58:24 INFO     [combat_individuel.py:134] toucher/blesser tot 0.44444444444444453\n",
      "2023-07-31 00:58:24 INFO     [combat_individuel.py:147] final: 0.44444444444444453\n"
     ]
    },
    {
     "data": {
      "text/plain": [
       "{1: 0.44444444444444453}"
      ]
     },
     "execution_count": 9,
     "metadata": {},
     "output_type": "execute_result"
    }
   ],
   "source": [
    "dict_nb_pv_perdu_probabilite(\n",
    "    humain_equipe.liste_attaque[0],\n",
    "    humain_equipe.caracteristique_effective,\n",
    "    get_dict_effet(humain_equipe.liste_effet).keys(),\n",
    ")"
   ]
  },
  {
   "cell_type": "code",
   "execution_count": 21,
   "metadata": {},
   "outputs": [
    {
     "data": {
      "text/plain": [
       "3"
      ]
     },
     "execution_count": 21,
     "metadata": {},
     "output_type": "execute_result"
    }
   ],
   "source": [
    "humain_equipe.caracteristique_effective.endurance"
   ]
  },
  {
   "cell_type": "code",
   "execution_count": 12,
   "metadata": {},
   "outputs": [],
   "source": [
    "def proba_relance(p):\n",
    "    return p + (1-p)*p"
   ]
  },
  {
   "cell_type": "code",
   "execution_count": 16,
   "metadata": {},
   "outputs": [
    {
     "data": {
      "text/plain": [
       "0.5555555555555556"
      ]
     },
     "execution_count": 16,
     "metadata": {},
     "output_type": "execute_result"
    }
   ],
   "source": [
    "proba_relance(1/3)"
   ]
  },
  {
   "cell_type": "code",
   "execution_count": 11,
   "metadata": {},
   "outputs": [
    {
     "data": {
      "text/plain": [
       "0.4444444444444444"
      ]
     },
     "execution_count": 11,
     "metadata": {},
     "output_type": "execute_result"
    }
   ],
   "source": [
    "1/3*5/6 + 1/6"
   ]
  },
  {
   "cell_type": "code",
   "execution_count": 80,
   "metadata": {},
   "outputs": [
    {
     "data": {
      "text/plain": [
       "0.027777777777777776"
      ]
     },
     "execution_count": 80,
     "metadata": {},
     "output_type": "execute_result"
    }
   ],
   "source": [
    "1/2*1/6*1/2*2/3"
   ]
  },
  {
   "cell_type": "code",
   "execution_count": 81,
   "metadata": {},
   "outputs": [
    {
     "data": {
      "text/plain": [
       "0.05555555555555555"
      ]
     },
     "execution_count": 81,
     "metadata": {},
     "output_type": "execute_result"
    }
   ],
   "source": [
    "1/2*1/6*2/3"
   ]
  },
  {
   "cell_type": "code",
   "execution_count": 82,
   "metadata": {},
   "outputs": [
    {
     "data": {
      "text/plain": [
       "0.027777777777777776"
      ]
     },
     "execution_count": 82,
     "metadata": {},
     "output_type": "execute_result"
    }
   ],
   "source": [
    "1/36"
   ]
  },
  {
   "cell_type": "code",
   "execution_count": null,
   "metadata": {},
   "outputs": [],
   "source": []
  }
 ],
 "metadata": {
  "kernelspec": {
   "display_name": "mentat",
   "language": "python",
   "name": "python3"
  },
  "language_info": {
   "codemirror_mode": {
    "name": "ipython",
    "version": 3
   },
   "file_extension": ".py",
   "mimetype": "text/x-python",
   "name": "python",
   "nbconvert_exporter": "python",
   "pygments_lexer": "ipython3",
   "version": "3.11.4"
  },
  "orig_nbformat": 4
 },
 "nbformat": 4,
 "nbformat_minor": 2
}
